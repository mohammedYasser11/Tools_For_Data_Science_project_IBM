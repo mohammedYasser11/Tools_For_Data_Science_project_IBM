{
 "cells": [
  {
   "cell_type": "markdown",
   "metadata": {},
   "source": [
    "# Data Science Tools and Ecosystem"
   ]
  },
  {
   "cell_type": "markdown",
   "metadata": {},
   "source": [
    "## Introduction:\n"
   ]
  },
  {
   "cell_type": "markdown",
   "metadata": {},
   "source": [
    "### In this notebook, Data Science Tools and Ecosystem are summarized."
   ]
  },
  {
   "cell_type": "markdown",
   "metadata": {},
   "source": [
    "## Data Science Languages: "
   ]
  },
  {
   "cell_type": "markdown",
   "metadata": {},
   "source": [
    "1. SQL\n",
    "2. Python\n",
    "3. R"
   ]
  },
  {
   "cell_type": "markdown",
   "metadata": {},
   "source": [
    "## Data Science Libraries:"
   ]
  },
  {
   "cell_type": "markdown",
   "metadata": {},
   "source": [
    "1. Pandas\n",
    "2. Numpy\n",
    "3. Matplotlib"
   ]
  },
  {
   "cell_type": "markdown",
   "metadata": {},
   "source": [
    "| Data Science Tools |\n",
    "| -----------------  |\n",
    "| Jupyter Notebook |\n",
    "| Python |\n",
    "| SQL |\n",
    "| Pandas |\n",
    "| tensorflow |"
   ]
  },
  {
   "cell_type": "markdown",
   "metadata": {},
   "source": [
    "## Arithmetic Expressions in Python"
   ]
  },
  {
   "cell_type": "markdown",
   "metadata": {},
   "source": [
    "### Below are a few examples of evaluating arithmetic expressions in Python.\n",
    "\n",
    "In Python, arithmetic expressions are fundamental for performing mathematical operations.\n",
    "You can use operators like \n",
    "- `+` (addition), \n",
    "- `-` (subtraction), \n",
    "- `*` (multiplication), \n",
    "- `/` (division), \n",
    "- `%` (modulo)  \n",
    "\n",
    " #### Let's explore some examples to understand how these expressions work.\n",
    "\n",
    "#### Addition\n",
    "result_addition = 5 + 3\n",
    "result_addition = 8\n",
    "\n",
    "#### Subtraction\n",
    "result_subtraction = 10 - 4\n",
    "result_subtraction = 6\n",
    "\n",
    "#### Multiplication\n",
    "result_multiplication = 6 * 2\n",
    "result_multiplication = 12\n",
    "\n",
    "#### Division\n",
    "result_division = 15 / 3\n",
    "result_division = 5.0\n",
    "\n",
    "#### Modulo\n",
    "result_modulo = 17 % 5\n",
    "result_modulo = 2\n",
    "\n",
    "#### Exponentiation\n",
    "result_exponentiation = 2 ** 4\n",
    "result_exponentiation = 16\n"
   ]
  },
  {
   "cell_type": "code",
   "execution_count": null,
   "metadata": {},
   "outputs": [
    {
     "ename": "",
     "evalue": "",
     "output_type": "error",
     "traceback": [
      "\u001b[1;31mRunning cells with 'c:\\msys64\\mingw64\\bin\\python.exe' requires the ipykernel package.\n",
      "\u001b[1;31mRun the following command to install 'ipykernel' into the Python environment. \n",
      "\u001b[1;31mCommand: 'c:/msys64/mingw64/bin/python.exe -m pip install ipykernel -U --user --force-reinstall'"
     ]
    }
   ],
   "source": [
    "# This is a simple arithmetic expression to multiply then add integers.\n",
    "print((3 * 4) + 5)"
   ]
  },
  {
   "cell_type": "code",
   "execution_count": null,
   "metadata": {},
   "outputs": [],
   "source": [
    "#This will convert 200 minutes to hours by diving by 60\n",
    "print(200/60)"
   ]
  },
  {
   "cell_type": "markdown",
   "metadata": {},
   "source": [
    "## **Objectives:**"
   ]
  },
  {
   "cell_type": "markdown",
   "metadata": {},
   "source": [
    "- List popular languages for data science\n",
    "- Commonly used libraries for data science\n",
    "- Explain key arithmetic operations in Python\n",
    "- Create a table in Jupyter Notebook Markdown"
   ]
  },
  {
   "cell_type": "markdown",
   "metadata": {},
   "source": [
    "## Author\n",
    "Mohammed Yasser Elnabawy"
   ]
  },
  {
   "cell_type": "markdown",
   "metadata": {},
   "source": []
  }
 ],
 "metadata": {
  "kernelspec": {
   "display_name": "Python 3",
   "language": "python",
   "name": "python3"
  },
  "language_info": {
   "name": "python",
   "version": "3.11.6"
  }
 },
 "nbformat": 4,
 "nbformat_minor": 2
}
